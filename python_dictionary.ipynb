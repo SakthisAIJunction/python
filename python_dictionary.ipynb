{
 "cells": [
  {
   "cell_type": "markdown",
   "metadata": {},
   "source": [
    "***\n",
    "# Welcome to Sakthi's AI Junction\n",
    "***\n",
    "### This script is a reference to python dictionary and its usage \n",
    "### creator: sakthiveltvt.thangaraj@gmail.com\n",
    "### created on: 21-Oct-2024\n",
    "### last updated on: 21-Oct-2024\n",
    "***"
   ]
  },
  {
   "cell_type": "markdown",
   "metadata": {},
   "source": [
    "##### 1. Let's take a dictionary 'dict_data' which has document stucture in it. Assume each document structure is corresponding to different pages in a PDF document.\n",
    "##### 2. It has three keys which are unique identifiers and each key has a value which is again a dictionary. \n",
    "##### 3. Keys include id, metadata, excluded_embed_metadata_keys, excluded_llm_metadata_keys, text.\n"
   ]
  },
  {
   "cell_type": "code",
   "execution_count": 55,
   "metadata": {},
   "outputs": [],
   "source": [
    "dict_data = {\n",
    "    'a1b2c3d4-e5f6-7890-abcd-ef1234567890': {\n",
    "        'id_': 'a1b2c3d4-e5f6-7890-abcd-ef1234567890',\n",
    "        'metadata': {\n",
    "            'page_label': '1',\n",
    "            'file_name': 'Python_Study_Materials.pdf',\n",
    "            'file_path': '/path/to/Python_Study_Materials.pdf',\n",
    "            'file_type': 'application/pdf',\n",
    "            'file_size': 123456,\n",
    "            'creation_date': '2024-10-01',\n",
    "            'last_modified_date': '2024-10-05'\n",
    "        },\n",
    "        'excluded_embed_metadata_keys': ['file_name', 'file_type'],\n",
    "        'excluded_llm_metadata_keys': ['file_size', 'creation_date'],\n",
    "        'text': \"Welcome to Sakthi's AI Junction. This context is related to Natural Language processing and it covers various topics under its hood.\"\n",
    "    },\n",
    "    'b2c3d4e5-f6g7-8901-bcde-fg2345678901': {\n",
    "       'id_': 'a1b2c3d4-e5f6-7890-abcd-ef1234567890',\n",
    "        'metadata': {\n",
    "            'page_label': '2',\n",
    "            'file_name': 'Python_Study_Materials.pdf',\n",
    "            'file_path': '/path/to/Python_Study_Materials.pdf',\n",
    "            'file_type': 'application/pdf',\n",
    "            'file_size': 123456,\n",
    "            'creation_date': '2024-10-01',\n",
    "            'last_modified_date': '2024-10-05'\n",
    "        },\n",
    "        'excluded_embed_metadata_keys': ['file_name', 'file_type'],\n",
    "        'excluded_llm_metadata_keys': ['file_size', 'creation_date'],\n",
    "        'text': \"Welcome to Sakthi's AI Junction. This context is related to Large Language Models and it covers various topics under its hood.\"\n",
    "    },\n",
    "    'c3d4e5f6-g7h8-9012-cdef-gh3456789012': {\n",
    "        'id_': 'a1b2c3d4-e5f6-7890-abcd-ef1234567890',\n",
    "        'metadata': {\n",
    "            'page_label': '3',\n",
    "            'file_name': 'Python_Study_Materials.pdf',\n",
    "            'file_path': '/path/to/Python_Study_Materials.pdf',\n",
    "            'file_type': 'application/pdf',\n",
    "            'file_size': 123456,\n",
    "            'creation_date': '2024-10-01',\n",
    "            'last_modified_date': '2024-10-05'\n",
    "        },\n",
    "        'excluded_embed_metadata_keys': ['file_name', 'file_type'],\n",
    "        'excluded_llm_metadata_keys': ['file_size', 'creation_date'],\n",
    "        'text': \"Welcome to Sakthi's AI Junction. This context is related to Computer Vision and it covers various topics under its hood.\"\n",
    "    }\n",
    "}"
   ]
  },
  {
   "cell_type": "markdown",
   "metadata": {},
   "source": [
    "#### Let's see the different ways for dictionary usage"
   ]
  },
  {
   "cell_type": "markdown",
   "metadata": {},
   "source": [
    "#### How to get the keys of data_dict ?"
   ]
  },
  {
   "cell_type": "code",
   "execution_count": 56,
   "metadata": {},
   "outputs": [
    {
     "name": "stdout",
     "output_type": "stream",
     "text": [
      "key 1 of the dictionary is a1b2c3d4-e5f6-7890-abcd-ef1234567890\n",
      "key 2 of the dictionary is b2c3d4e5-f6g7-8901-bcde-fg2345678901\n",
      "key 3 of the dictionary is c3d4e5f6-g7h8-9012-cdef-gh3456789012\n"
     ]
    }
   ],
   "source": [
    "for i, key in enumerate(dict_data.keys()):\n",
    "    print(f'key {i+1} of the dictionary is {key}')\n"
   ]
  },
  {
   "cell_type": "markdown",
   "metadata": {},
   "source": [
    "#### How to get the values of data_dict ? Here, each value is again a another dictionary"
   ]
  },
  {
   "cell_type": "code",
   "execution_count": 57,
   "metadata": {},
   "outputs": [
    {
     "name": "stdout",
     "output_type": "stream",
     "text": [
      "key 1 of the dictionary is {'id_': 'a1b2c3d4-e5f6-7890-abcd-ef1234567890', 'metadata': {'page_label': '1', 'file_name': 'Python_Study_Materials.pdf', 'file_path': '/path/to/Python_Study_Materials.pdf', 'file_type': 'application/pdf', 'file_size': 123456, 'creation_date': '2024-10-01', 'last_modified_date': '2024-10-05'}, 'excluded_embed_metadata_keys': ['file_name', 'file_type'], 'excluded_llm_metadata_keys': ['file_size', 'creation_date'], 'text': \"Welcome to Sakthi's AI Junction. This context is related to Natural Language processing and it covers various topics under its hood.\"}\n",
      "key 2 of the dictionary is {'id_': 'a1b2c3d4-e5f6-7890-abcd-ef1234567890', 'metadata': {'page_label': '2', 'file_name': 'Python_Study_Materials.pdf', 'file_path': '/path/to/Python_Study_Materials.pdf', 'file_type': 'application/pdf', 'file_size': 123456, 'creation_date': '2024-10-01', 'last_modified_date': '2024-10-05'}, 'excluded_embed_metadata_keys': ['file_name', 'file_type'], 'excluded_llm_metadata_keys': ['file_size', 'creation_date'], 'text': \"Welcome to Sakthi's AI Junction. This context is related to Large Language Models and it covers various topics under its hood.\"}\n",
      "key 3 of the dictionary is {'id_': 'a1b2c3d4-e5f6-7890-abcd-ef1234567890', 'metadata': {'page_label': '3', 'file_name': 'Python_Study_Materials.pdf', 'file_path': '/path/to/Python_Study_Materials.pdf', 'file_type': 'application/pdf', 'file_size': 123456, 'creation_date': '2024-10-01', 'last_modified_date': '2024-10-05'}, 'excluded_embed_metadata_keys': ['file_name', 'file_type'], 'excluded_llm_metadata_keys': ['file_size', 'creation_date'], 'text': \"Welcome to Sakthi's AI Junction. This context is related to Computer Vision and it covers various topics under its hood.\"}\n"
     ]
    }
   ],
   "source": [
    "for i, value in enumerate(dict_data.values()):\n",
    "    print(f'key {i+1} of the dictionary is {value}')\n"
   ]
  },
  {
   "cell_type": "markdown",
   "metadata": {},
   "source": [
    "#### How to get the keys of the dictionary in each value of the 'data_dict' ?\n"
   ]
  },
  {
   "cell_type": "code",
   "execution_count": 58,
   "metadata": {},
   "outputs": [
    {
     "name": "stdout",
     "output_type": "stream",
     "text": [
      "==>Iterating through the document strucure 1 of dict_data\n",
      "key 1 of the document structure 1 is id_\n",
      "key 2 of the document structure 1 is metadata\n",
      "key 3 of the document structure 1 is excluded_embed_metadata_keys\n",
      "key 4 of the document structure 1 is excluded_llm_metadata_keys\n",
      "key 5 of the document structure 1 is text\n",
      "\n",
      "\n",
      "==>Iterating through the document strucure 2 of dict_data\n",
      "key 1 of the document structure 2 is id_\n",
      "key 2 of the document structure 2 is metadata\n",
      "key 3 of the document structure 2 is excluded_embed_metadata_keys\n",
      "key 4 of the document structure 2 is excluded_llm_metadata_keys\n",
      "key 5 of the document structure 2 is text\n",
      "\n",
      "\n",
      "==>Iterating through the document strucure 3 of dict_data\n",
      "key 1 of the document structure 3 is id_\n",
      "key 2 of the document structure 3 is metadata\n",
      "key 3 of the document structure 3 is excluded_embed_metadata_keys\n",
      "key 4 of the document structure 3 is excluded_llm_metadata_keys\n",
      "key 5 of the document structure 3 is text\n",
      "\n",
      "\n"
     ]
    }
   ],
   "source": [
    "for i, value in enumerate(dict_data.values()):\n",
    "    print(f'==>Iterating through the document strucure {i+1} of dict_data')\n",
    "    for j, sub_key in enumerate(value.keys()):\n",
    "        print(f'key {j+1} of the document structure {i+1} is {sub_key}')\n",
    "    print('\\n')"
   ]
  },
  {
   "cell_type": "markdown",
   "metadata": {},
   "source": [
    "#### How to get the keys and values of 'data_dict' ?"
   ]
  },
  {
   "cell_type": "code",
   "execution_count": 59,
   "metadata": {},
   "outputs": [
    {
     "name": "stdout",
     "output_type": "stream",
     "text": [
      "Key is a1b2c3d4-e5f6-7890-abcd-ef1234567890 and its value is {'id_': 'a1b2c3d4-e5f6-7890-abcd-ef1234567890', 'metadata': {'page_label': '1', 'file_name': 'Python_Study_Materials.pdf', 'file_path': '/path/to/Python_Study_Materials.pdf', 'file_type': 'application/pdf', 'file_size': 123456, 'creation_date': '2024-10-01', 'last_modified_date': '2024-10-05'}, 'excluded_embed_metadata_keys': ['file_name', 'file_type'], 'excluded_llm_metadata_keys': ['file_size', 'creation_date'], 'text': \"Welcome to Sakthi's AI Junction. This context is related to Natural Language processing and it covers various topics under its hood.\"}\n",
      "Key is b2c3d4e5-f6g7-8901-bcde-fg2345678901 and its value is {'id_': 'a1b2c3d4-e5f6-7890-abcd-ef1234567890', 'metadata': {'page_label': '2', 'file_name': 'Python_Study_Materials.pdf', 'file_path': '/path/to/Python_Study_Materials.pdf', 'file_type': 'application/pdf', 'file_size': 123456, 'creation_date': '2024-10-01', 'last_modified_date': '2024-10-05'}, 'excluded_embed_metadata_keys': ['file_name', 'file_type'], 'excluded_llm_metadata_keys': ['file_size', 'creation_date'], 'text': \"Welcome to Sakthi's AI Junction. This context is related to Large Language Models and it covers various topics under its hood.\"}\n",
      "Key is c3d4e5f6-g7h8-9012-cdef-gh3456789012 and its value is {'id_': 'a1b2c3d4-e5f6-7890-abcd-ef1234567890', 'metadata': {'page_label': '3', 'file_name': 'Python_Study_Materials.pdf', 'file_path': '/path/to/Python_Study_Materials.pdf', 'file_type': 'application/pdf', 'file_size': 123456, 'creation_date': '2024-10-01', 'last_modified_date': '2024-10-05'}, 'excluded_embed_metadata_keys': ['file_name', 'file_type'], 'excluded_llm_metadata_keys': ['file_size', 'creation_date'], 'text': \"Welcome to Sakthi's AI Junction. This context is related to Computer Vision and it covers various topics under its hood.\"}\n"
     ]
    }
   ],
   "source": [
    "for key, value in dict_data.items():\n",
    "    print(f'Key is {key} and its value is {value}')"
   ]
  },
  {
   "cell_type": "markdown",
   "metadata": {},
   "source": [
    "#### how to iterate dynamically through the values till it reaches the actual value ?"
   ]
  },
  {
   "cell_type": "code",
   "execution_count": 60,
   "metadata": {},
   "outputs": [
    {
     "name": "stdout",
     "output_type": "stream",
     "text": [
      "\n",
      "\n",
      "key a1b2c3d4-e5f6-7890-abcd-ef1234567890 and the value is {'id_': 'a1b2c3d4-e5f6-7890-abcd-ef1234567890', 'metadata': {'page_label': '1', 'file_name': 'Python_Study_Materials.pdf', 'file_path': '/path/to/Python_Study_Materials.pdf', 'file_type': 'application/pdf', 'file_size': 123456, 'creation_date': '2024-10-01', 'last_modified_date': '2024-10-05'}, 'excluded_embed_metadata_keys': ['file_name', 'file_type'], 'excluded_llm_metadata_keys': ['file_size', 'creation_date'], 'text': \"Welcome to Sakthi's AI Junction. This context is related to Natural Language processing and it covers various topics under its hood.\"}\n",
      "\n",
      "\n",
      "key id_ and the value is a1b2c3d4-e5f6-7890-abcd-ef1234567890\n",
      "key metadata and the value is {'page_label': '1', 'file_name': 'Python_Study_Materials.pdf', 'file_path': '/path/to/Python_Study_Materials.pdf', 'file_type': 'application/pdf', 'file_size': 123456, 'creation_date': '2024-10-01', 'last_modified_date': '2024-10-05'}\n",
      "\n",
      "\n",
      "key page_label and the value is 1\n",
      "key file_name and the value is Python_Study_Materials.pdf\n",
      "key file_path and the value is /path/to/Python_Study_Materials.pdf\n",
      "key file_type and the value is application/pdf\n",
      "key file_size and the value is 123456\n",
      "key creation_date and the value is 2024-10-01\n",
      "key last_modified_date and the value is 2024-10-05\n",
      "key excluded_embed_metadata_keys and the value is ['file_name', 'file_type']\n",
      "key excluded_llm_metadata_keys and the value is ['file_size', 'creation_date']\n",
      "key text and the value is Welcome to Sakthi's AI Junction. This context is related to Natural Language processing and it covers various topics under its hood.\n",
      "key b2c3d4e5-f6g7-8901-bcde-fg2345678901 and the value is {'id_': 'a1b2c3d4-e5f6-7890-abcd-ef1234567890', 'metadata': {'page_label': '2', 'file_name': 'Python_Study_Materials.pdf', 'file_path': '/path/to/Python_Study_Materials.pdf', 'file_type': 'application/pdf', 'file_size': 123456, 'creation_date': '2024-10-01', 'last_modified_date': '2024-10-05'}, 'excluded_embed_metadata_keys': ['file_name', 'file_type'], 'excluded_llm_metadata_keys': ['file_size', 'creation_date'], 'text': \"Welcome to Sakthi's AI Junction. This context is related to Large Language Models and it covers various topics under its hood.\"}\n",
      "\n",
      "\n",
      "key id_ and the value is a1b2c3d4-e5f6-7890-abcd-ef1234567890\n",
      "key metadata and the value is {'page_label': '2', 'file_name': 'Python_Study_Materials.pdf', 'file_path': '/path/to/Python_Study_Materials.pdf', 'file_type': 'application/pdf', 'file_size': 123456, 'creation_date': '2024-10-01', 'last_modified_date': '2024-10-05'}\n",
      "\n",
      "\n",
      "key page_label and the value is 2\n",
      "key file_name and the value is Python_Study_Materials.pdf\n",
      "key file_path and the value is /path/to/Python_Study_Materials.pdf\n",
      "key file_type and the value is application/pdf\n",
      "key file_size and the value is 123456\n",
      "key creation_date and the value is 2024-10-01\n",
      "key last_modified_date and the value is 2024-10-05\n",
      "key excluded_embed_metadata_keys and the value is ['file_name', 'file_type']\n",
      "key excluded_llm_metadata_keys and the value is ['file_size', 'creation_date']\n",
      "key text and the value is Welcome to Sakthi's AI Junction. This context is related to Large Language Models and it covers various topics under its hood.\n",
      "key c3d4e5f6-g7h8-9012-cdef-gh3456789012 and the value is {'id_': 'a1b2c3d4-e5f6-7890-abcd-ef1234567890', 'metadata': {'page_label': '3', 'file_name': 'Python_Study_Materials.pdf', 'file_path': '/path/to/Python_Study_Materials.pdf', 'file_type': 'application/pdf', 'file_size': 123456, 'creation_date': '2024-10-01', 'last_modified_date': '2024-10-05'}, 'excluded_embed_metadata_keys': ['file_name', 'file_type'], 'excluded_llm_metadata_keys': ['file_size', 'creation_date'], 'text': \"Welcome to Sakthi's AI Junction. This context is related to Computer Vision and it covers various topics under its hood.\"}\n",
      "\n",
      "\n",
      "key id_ and the value is a1b2c3d4-e5f6-7890-abcd-ef1234567890\n",
      "key metadata and the value is {'page_label': '3', 'file_name': 'Python_Study_Materials.pdf', 'file_path': '/path/to/Python_Study_Materials.pdf', 'file_type': 'application/pdf', 'file_size': 123456, 'creation_date': '2024-10-01', 'last_modified_date': '2024-10-05'}\n",
      "\n",
      "\n",
      "key page_label and the value is 3\n",
      "key file_name and the value is Python_Study_Materials.pdf\n",
      "key file_path and the value is /path/to/Python_Study_Materials.pdf\n",
      "key file_type and the value is application/pdf\n",
      "key file_size and the value is 123456\n",
      "key creation_date and the value is 2024-10-01\n",
      "key last_modified_date and the value is 2024-10-05\n",
      "key excluded_embed_metadata_keys and the value is ['file_name', 'file_type']\n",
      "key excluded_llm_metadata_keys and the value is ['file_size', 'creation_date']\n",
      "key text and the value is Welcome to Sakthi's AI Junction. This context is related to Computer Vision and it covers various topics under its hood.\n"
     ]
    }
   ],
   "source": [
    "#define a function which takes a dictionary and returns the complete key value pair of it by recursive loop\n",
    "def check_dictionary_elements(dict_data):\n",
    "    if isinstance(dict_data, dict):\n",
    "        print('\\n')\n",
    "        for index, (key, value) in enumerate(dict_data.items()):\n",
    "            print(f'key {key} and the value is {value}')\n",
    "            check_dictionary_elements(value)\n",
    "    else:\n",
    "        return f'==>{dict_data} is not a dictionary'\n",
    "\n",
    "final_value = check_dictionary_elements(dict_data)\n",
    "final_value"
   ]
  },
  {
   "cell_type": "markdown",
   "metadata": {},
   "source": [
    "#### other ways to get key, value pairs ?\n",
    "#### Zip method"
   ]
  },
  {
   "cell_type": "code",
   "execution_count": 61,
   "metadata": {},
   "outputs": [
    {
     "name": "stdout",
     "output_type": "stream",
     "text": [
      "a1b2c3d4-e5f6-7890-abcd-ef1234567890 {'id_': 'a1b2c3d4-e5f6-7890-abcd-ef1234567890', 'metadata': {'page_label': '1', 'file_name': 'Python_Study_Materials.pdf', 'file_path': '/path/to/Python_Study_Materials.pdf', 'file_type': 'application/pdf', 'file_size': 123456, 'creation_date': '2024-10-01', 'last_modified_date': '2024-10-05'}, 'excluded_embed_metadata_keys': ['file_name', 'file_type'], 'excluded_llm_metadata_keys': ['file_size', 'creation_date'], 'text': \"Welcome to Sakthi's AI Junction. This context is related to Natural Language processing and it covers various topics under its hood.\"}\n",
      "b2c3d4e5-f6g7-8901-bcde-fg2345678901 {'id_': 'a1b2c3d4-e5f6-7890-abcd-ef1234567890', 'metadata': {'page_label': '2', 'file_name': 'Python_Study_Materials.pdf', 'file_path': '/path/to/Python_Study_Materials.pdf', 'file_type': 'application/pdf', 'file_size': 123456, 'creation_date': '2024-10-01', 'last_modified_date': '2024-10-05'}, 'excluded_embed_metadata_keys': ['file_name', 'file_type'], 'excluded_llm_metadata_keys': ['file_size', 'creation_date'], 'text': \"Welcome to Sakthi's AI Junction. This context is related to Large Language Models and it covers various topics under its hood.\"}\n",
      "c3d4e5f6-g7h8-9012-cdef-gh3456789012 {'id_': 'a1b2c3d4-e5f6-7890-abcd-ef1234567890', 'metadata': {'page_label': '3', 'file_name': 'Python_Study_Materials.pdf', 'file_path': '/path/to/Python_Study_Materials.pdf', 'file_type': 'application/pdf', 'file_size': 123456, 'creation_date': '2024-10-01', 'last_modified_date': '2024-10-05'}, 'excluded_embed_metadata_keys': ['file_name', 'file_type'], 'excluded_llm_metadata_keys': ['file_size', 'creation_date'], 'text': \"Welcome to Sakthi's AI Junction. This context is related to Computer Vision and it covers various topics under its hood.\"}\n"
     ]
    }
   ],
   "source": [
    "for key, value in zip(dict_data.keys(), dict_data.values()):\n",
    "    print(key, value)"
   ]
  },
  {
   "cell_type": "markdown",
   "metadata": {},
   "source": [
    "#### how to get the dictionary values pairs using list comprehension ?"
   ]
  },
  {
   "cell_type": "code",
   "execution_count": 62,
   "metadata": {},
   "outputs": [
    {
     "data": {
      "text/plain": [
       "[{'id_': 'a1b2c3d4-e5f6-7890-abcd-ef1234567890',\n",
       "  'metadata': {'page_label': '1',\n",
       "   'file_name': 'Python_Study_Materials.pdf',\n",
       "   'file_path': '/path/to/Python_Study_Materials.pdf',\n",
       "   'file_type': 'application/pdf',\n",
       "   'file_size': 123456,\n",
       "   'creation_date': '2024-10-01',\n",
       "   'last_modified_date': '2024-10-05'},\n",
       "  'excluded_embed_metadata_keys': ['file_name', 'file_type'],\n",
       "  'excluded_llm_metadata_keys': ['file_size', 'creation_date'],\n",
       "  'text': \"Welcome to Sakthi's AI Junction. This context is related to Natural Language processing and it covers various topics under its hood.\"},\n",
       " {'id_': 'a1b2c3d4-e5f6-7890-abcd-ef1234567890',\n",
       "  'metadata': {'page_label': '2',\n",
       "   'file_name': 'Python_Study_Materials.pdf',\n",
       "   'file_path': '/path/to/Python_Study_Materials.pdf',\n",
       "   'file_type': 'application/pdf',\n",
       "   'file_size': 123456,\n",
       "   'creation_date': '2024-10-01',\n",
       "   'last_modified_date': '2024-10-05'},\n",
       "  'excluded_embed_metadata_keys': ['file_name', 'file_type'],\n",
       "  'excluded_llm_metadata_keys': ['file_size', 'creation_date'],\n",
       "  'text': \"Welcome to Sakthi's AI Junction. This context is related to Large Language Models and it covers various topics under its hood.\"},\n",
       " {'id_': 'a1b2c3d4-e5f6-7890-abcd-ef1234567890',\n",
       "  'metadata': {'page_label': '3',\n",
       "   'file_name': 'Python_Study_Materials.pdf',\n",
       "   'file_path': '/path/to/Python_Study_Materials.pdf',\n",
       "   'file_type': 'application/pdf',\n",
       "   'file_size': 123456,\n",
       "   'creation_date': '2024-10-01',\n",
       "   'last_modified_date': '2024-10-05'},\n",
       "  'excluded_embed_metadata_keys': ['file_name', 'file_type'],\n",
       "  'excluded_llm_metadata_keys': ['file_size', 'creation_date'],\n",
       "  'text': \"Welcome to Sakthi's AI Junction. This context is related to Computer Vision and it covers various topics under its hood.\"}]"
      ]
     },
     "execution_count": 62,
     "metadata": {},
     "output_type": "execute_result"
    }
   ],
   "source": [
    "dict_values = [value for key, value in dict_data.items()]\n",
    "dict_values"
   ]
  },
  {
   "cell_type": "markdown",
   "metadata": {},
   "source": [
    "#### how to get specific value of a key 'text' in recursive manner ?"
   ]
  },
  {
   "cell_type": "code",
   "execution_count": 63,
   "metadata": {},
   "outputs": [
    {
     "data": {
      "text/plain": [
       "[\"Welcome to Sakthi's AI Junction. This context is related to Natural Language processing and it covers various topics under its hood.\",\n",
       " \"Welcome to Sakthi's AI Junction. This context is related to Large Language Models and it covers various topics under its hood.\",\n",
       " \"Welcome to Sakthi's AI Junction. This context is related to Computer Vision and it covers various topics under its hood.\"]"
      ]
     },
     "execution_count": 63,
     "metadata": {},
     "output_type": "execute_result"
    }
   ],
   "source": [
    "# define a function to get a value of the key 'text' in recursive manner\n",
    "key_values = []\n",
    "def get_key_values(dict_data, search_key):\n",
    "    if isinstance(dict_data, dict):\n",
    "        for key, value in dict_data.items():\n",
    "            if key == search_key:\n",
    "                key_values.append(value)\n",
    "            if isinstance(value, dict):\n",
    "                get_key_values(value, search_key)\n",
    "    return key_values\n",
    "\n",
    "key_values = get_key_values(dict_data, search_key = \"text\")\n",
    "key_values\n",
    "\n",
    "\n"
   ]
  },
  {
   "cell_type": "markdown",
   "metadata": {},
   "source": [
    "#### how to copy the keys to a list ?"
   ]
  },
  {
   "cell_type": "code",
   "execution_count": 64,
   "metadata": {},
   "outputs": [
    {
     "data": {
      "text/plain": [
       "['a1b2c3d4-e5f6-7890-abcd-ef1234567890',\n",
       " 'b2c3d4e5-f6g7-8901-bcde-fg2345678901',\n",
       " 'c3d4e5f6-g7h8-9012-cdef-gh3456789012']"
      ]
     },
     "execution_count": 64,
     "metadata": {},
     "output_type": "execute_result"
    }
   ],
   "source": [
    "key_list = [*dict_data]\n",
    "key_list"
   ]
  },
  {
   "cell_type": "markdown",
   "metadata": {},
   "source": [
    "#### how to copy the dictionary to another dictionary?"
   ]
  },
  {
   "cell_type": "code",
   "execution_count": 65,
   "metadata": {},
   "outputs": [
    {
     "data": {
      "text/plain": [
       "{'a1b2c3d4-e5f6-7890-abcd-ef1234567890': {'id_': 'a1b2c3d4-e5f6-7890-abcd-ef1234567890',\n",
       "  'metadata': {'page_label': '1',\n",
       "   'file_name': 'Python_Study_Materials.pdf',\n",
       "   'file_path': '/path/to/Python_Study_Materials.pdf',\n",
       "   'file_type': 'application/pdf',\n",
       "   'file_size': 123456,\n",
       "   'creation_date': '2024-10-01',\n",
       "   'last_modified_date': '2024-10-05'},\n",
       "  'excluded_embed_metadata_keys': ['file_name', 'file_type'],\n",
       "  'excluded_llm_metadata_keys': ['file_size', 'creation_date'],\n",
       "  'text': \"Welcome to Sakthi's AI Junction. This context is related to Natural Language processing and it covers various topics under its hood.\"},\n",
       " 'b2c3d4e5-f6g7-8901-bcde-fg2345678901': {'id_': 'a1b2c3d4-e5f6-7890-abcd-ef1234567890',\n",
       "  'metadata': {'page_label': '2',\n",
       "   'file_name': 'Python_Study_Materials.pdf',\n",
       "   'file_path': '/path/to/Python_Study_Materials.pdf',\n",
       "   'file_type': 'application/pdf',\n",
       "   'file_size': 123456,\n",
       "   'creation_date': '2024-10-01',\n",
       "   'last_modified_date': '2024-10-05'},\n",
       "  'excluded_embed_metadata_keys': ['file_name', 'file_type'],\n",
       "  'excluded_llm_metadata_keys': ['file_size', 'creation_date'],\n",
       "  'text': \"Welcome to Sakthi's AI Junction. This context is related to Large Language Models and it covers various topics under its hood.\"},\n",
       " 'c3d4e5f6-g7h8-9012-cdef-gh3456789012': {'id_': 'a1b2c3d4-e5f6-7890-abcd-ef1234567890',\n",
       "  'metadata': {'page_label': '3',\n",
       "   'file_name': 'Python_Study_Materials.pdf',\n",
       "   'file_path': '/path/to/Python_Study_Materials.pdf',\n",
       "   'file_type': 'application/pdf',\n",
       "   'file_size': 123456,\n",
       "   'creation_date': '2024-10-01',\n",
       "   'last_modified_date': '2024-10-05'},\n",
       "  'excluded_embed_metadata_keys': ['file_name', 'file_type'],\n",
       "  'excluded_llm_metadata_keys': ['file_size', 'creation_date'],\n",
       "  'text': \"Welcome to Sakthi's AI Junction. This context is related to Computer Vision and it covers various topics under its hood.\"}}"
      ]
     },
     "execution_count": 65,
     "metadata": {},
     "output_type": "execute_result"
    }
   ],
   "source": [
    "new_dict_data = {**dict_data}\n",
    "new_dict_data"
   ]
  },
  {
   "cell_type": "code",
   "execution_count": null,
   "metadata": {},
   "outputs": [],
   "source": []
  }
 ],
 "metadata": {
  "kernelspec": {
   "display_name": ".venv",
   "language": "python",
   "name": "python3"
  },
  "language_info": {
   "codemirror_mode": {
    "name": "ipython",
    "version": 3
   },
   "file_extension": ".py",
   "mimetype": "text/x-python",
   "name": "python",
   "nbconvert_exporter": "python",
   "pygments_lexer": "ipython3",
   "version": "3.12.4"
  }
 },
 "nbformat": 4,
 "nbformat_minor": 2
}
